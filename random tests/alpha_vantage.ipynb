{
 "cells": [
  {
   "cell_type": "markdown",
   "metadata": {},
   "source": [
    "# Alpha Vantage API"
   ]
  },
  {
   "cell_type": "code",
   "execution_count": 5,
   "metadata": {},
   "outputs": [],
   "source": [
    "import numpy as np\n",
    "import pandas as pd\n",
    "\n",
    "import matplotlib.pyplot as plt\n",
    "import seaborn as sns\n",
    "sns.set_style(\"whitegrid\")\n",
    "\n",
    "import csv\n",
    "import requests"
   ]
  },
  {
   "cell_type": "code",
   "execution_count": 2,
   "metadata": {},
   "outputs": [],
   "source": [
    "API_KEY = \"2U5OG4WFSTOUBHAS\""
   ]
  },
  {
   "cell_type": "markdown",
   "metadata": {},
   "source": [
    "## Loading data"
   ]
  },
  {
   "cell_type": "markdown",
   "metadata": {},
   "source": [
    "### Using requests"
   ]
  },
  {
   "cell_type": "code",
   "execution_count": 66,
   "metadata": {},
   "outputs": [
    {
     "name": "stdout",
     "output_type": "stream",
     "text": [
      "Meta Data keys: ['1. Information', '2. Symbol', '3. Last Refreshed', '4. Interval', '5. Output Size', '6. Time Zone']\n"
     ]
    },
    {
     "data": {
      "text/html": [
       "<div>\n",
       "<style scoped>\n",
       "    .dataframe tbody tr th:only-of-type {\n",
       "        vertical-align: middle;\n",
       "    }\n",
       "\n",
       "    .dataframe tbody tr th {\n",
       "        vertical-align: top;\n",
       "    }\n",
       "\n",
       "    .dataframe thead th {\n",
       "        text-align: right;\n",
       "    }\n",
       "</style>\n",
       "<table border=\"1\" class=\"dataframe\">\n",
       "  <thead>\n",
       "    <tr style=\"text-align: right;\">\n",
       "      <th></th>\n",
       "      <th>1. open</th>\n",
       "      <th>2. high</th>\n",
       "      <th>3. low</th>\n",
       "      <th>4. close</th>\n",
       "      <th>5. volume</th>\n",
       "    </tr>\n",
       "  </thead>\n",
       "  <tbody>\n",
       "    <tr>\n",
       "      <th>2022-07-27 20:00:00</th>\n",
       "      <td>128.84</td>\n",
       "      <td>128.84</td>\n",
       "      <td>128.60</td>\n",
       "      <td>128.60</td>\n",
       "      <td>5188.0</td>\n",
       "    </tr>\n",
       "    <tr>\n",
       "      <th>2022-07-27 19:35:00</th>\n",
       "      <td>128.82</td>\n",
       "      <td>128.82</td>\n",
       "      <td>128.82</td>\n",
       "      <td>128.82</td>\n",
       "      <td>4629.0</td>\n",
       "    </tr>\n",
       "    <tr>\n",
       "      <th>2022-07-27 19:30:00</th>\n",
       "      <td>128.82</td>\n",
       "      <td>128.82</td>\n",
       "      <td>128.82</td>\n",
       "      <td>128.82</td>\n",
       "      <td>410.0</td>\n",
       "    </tr>\n",
       "    <tr>\n",
       "      <th>2022-07-27 18:05:00</th>\n",
       "      <td>129.10</td>\n",
       "      <td>129.10</td>\n",
       "      <td>129.10</td>\n",
       "      <td>129.10</td>\n",
       "      <td>202.0</td>\n",
       "    </tr>\n",
       "    <tr>\n",
       "      <th>2022-07-27 17:45:00</th>\n",
       "      <td>129.00</td>\n",
       "      <td>129.00</td>\n",
       "      <td>129.00</td>\n",
       "      <td>129.00</td>\n",
       "      <td>439.0</td>\n",
       "    </tr>\n",
       "  </tbody>\n",
       "</table>\n",
       "</div>"
      ],
      "text/plain": [
       "                     1. open  2. high  3. low  4. close  5. volume\n",
       "2022-07-27 20:00:00   128.84   128.84  128.60    128.60     5188.0\n",
       "2022-07-27 19:35:00   128.82   128.82  128.82    128.82     4629.0\n",
       "2022-07-27 19:30:00   128.82   128.82  128.82    128.82      410.0\n",
       "2022-07-27 18:05:00   129.10   129.10  129.10    129.10      202.0\n",
       "2022-07-27 17:45:00   129.00   129.00  129.00    129.00      439.0"
      ]
     },
     "execution_count": 66,
     "metadata": {},
     "output_type": "execute_result"
    }
   ],
   "source": [
    "symbol = 'IBM'\n",
    "\n",
    "url = f'https://www.alphavantage.co/query?function=TIME_SERIES_INTRADAY&symbol={symbol}&interval=5min&apikey={API_KEY}'\n",
    "r = requests.get(url)\n",
    "data = r.json()\n",
    "\n",
    "print(\"Meta Data keys:\", list(data['Meta Data'].keys()))\n",
    "time_series_df = pd.DataFrame(data['Time Series (5min)']).T\n",
    "time_series_df = time_series_df.astype(float)\n",
    "\n",
    "time_series_df.head()"
   ]
  },
  {
   "cell_type": "markdown",
   "metadata": {},
   "source": [
    "### Using csv"
   ]
  },
  {
   "cell_type": "code",
   "execution_count": 55,
   "metadata": {},
   "outputs": [
    {
     "name": "stdout",
     "output_type": "stream",
     "text": [
      "['time', 'open', 'high', 'low', 'close', 'volume']\n",
      "['2022-07-27 20:00:00', '128.84', '128.84', '128.6', '128.6', '5188']\n",
      "['2022-07-27 19:45:00', '128.82', '128.82', '128.82', '128.82', '4629']\n",
      "['2022-07-27 19:30:00', '128.82', '128.82', '128.82', '128.82', '410']\n",
      "['2022-07-27 18:15:00', '129.1', '129.1', '129.1', '129.1', '202']\n"
     ]
    },
    {
     "data": {
      "text/html": [
       "<div>\n",
       "<style scoped>\n",
       "    .dataframe tbody tr th:only-of-type {\n",
       "        vertical-align: middle;\n",
       "    }\n",
       "\n",
       "    .dataframe tbody tr th {\n",
       "        vertical-align: top;\n",
       "    }\n",
       "\n",
       "    .dataframe thead th {\n",
       "        text-align: right;\n",
       "    }\n",
       "</style>\n",
       "<table border=\"1\" class=\"dataframe\">\n",
       "  <thead>\n",
       "    <tr style=\"text-align: right;\">\n",
       "      <th></th>\n",
       "      <th>open</th>\n",
       "      <th>high</th>\n",
       "      <th>low</th>\n",
       "      <th>close</th>\n",
       "      <th>volume</th>\n",
       "    </tr>\n",
       "    <tr>\n",
       "      <th>time</th>\n",
       "      <th></th>\n",
       "      <th></th>\n",
       "      <th></th>\n",
       "      <th></th>\n",
       "      <th></th>\n",
       "    </tr>\n",
       "  </thead>\n",
       "  <tbody>\n",
       "    <tr>\n",
       "      <th>2022-07-27 20:00:00</th>\n",
       "      <td>128.84</td>\n",
       "      <td>128.84</td>\n",
       "      <td>128.60</td>\n",
       "      <td>128.60</td>\n",
       "      <td>5188.0</td>\n",
       "    </tr>\n",
       "    <tr>\n",
       "      <th>2022-07-27 19:45:00</th>\n",
       "      <td>128.82</td>\n",
       "      <td>128.82</td>\n",
       "      <td>128.82</td>\n",
       "      <td>128.82</td>\n",
       "      <td>4629.0</td>\n",
       "    </tr>\n",
       "    <tr>\n",
       "      <th>2022-07-27 19:30:00</th>\n",
       "      <td>128.82</td>\n",
       "      <td>128.82</td>\n",
       "      <td>128.82</td>\n",
       "      <td>128.82</td>\n",
       "      <td>410.0</td>\n",
       "    </tr>\n",
       "    <tr>\n",
       "      <th>2022-07-27 18:15:00</th>\n",
       "      <td>129.10</td>\n",
       "      <td>129.10</td>\n",
       "      <td>129.10</td>\n",
       "      <td>129.10</td>\n",
       "      <td>202.0</td>\n",
       "    </tr>\n",
       "    <tr>\n",
       "      <th>2022-07-27 17:45:00</th>\n",
       "      <td>129.00</td>\n",
       "      <td>129.00</td>\n",
       "      <td>129.00</td>\n",
       "      <td>129.00</td>\n",
       "      <td>439.0</td>\n",
       "    </tr>\n",
       "  </tbody>\n",
       "</table>\n",
       "</div>"
      ],
      "text/plain": [
       "                       open    high     low   close  volume\n",
       "time                                                       \n",
       "2022-07-27 20:00:00  128.84  128.84  128.60  128.60  5188.0\n",
       "2022-07-27 19:45:00  128.82  128.82  128.82  128.82  4629.0\n",
       "2022-07-27 19:30:00  128.82  128.82  128.82  128.82   410.0\n",
       "2022-07-27 18:15:00  129.10  129.10  129.10  129.10   202.0\n",
       "2022-07-27 17:45:00  129.00  129.00  129.00  129.00   439.0"
      ]
     },
     "execution_count": 55,
     "metadata": {},
     "output_type": "execute_result"
    }
   ],
   "source": [
    "# replace the \"demo\" apikey below with your own key from https://www.alphavantage.co/support/#api-key\n",
    "CSV_URL = f'https://www.alphavantage.co/query?function=TIME_SERIES_INTRADAY_EXTENDED&symbol={symbol}&interval=15min&slice=year1month1&apikey={API_KEY}'\n",
    "\n",
    "\n",
    "with requests.Session() as s:\n",
    "    download = s.get(CSV_URL)\n",
    "    decoded_content = download.content.decode('utf-8')\n",
    "    cr = csv.reader(decoded_content.splitlines(), delimiter=',')\n",
    "    my_list = list(cr)\n",
    "\n",
    "    # use pandas\n",
    "    time_series_df = pd.DataFrame(columns=my_list[0], data=my_list[1:]).set_index('time')\n",
    "    time_series_df = time_series_df.astype(float)\n",
    "\n",
    "    # iterate (over the 5 first rows)\n",
    "    for row in my_list[:5]:\n",
    "        print(row)\n",
    "\n",
    "time_series_df.head()"
   ]
  },
  {
   "cell_type": "markdown",
   "metadata": {},
   "source": [
    "## BTC / ETH"
   ]
  },
  {
   "cell_type": "code",
   "execution_count": 115,
   "metadata": {},
   "outputs": [],
   "source": [
    "# add outputsize=full to the url to have more than 100 rows (can be heavy)\n",
    "\n",
    "def get_intraday_crypto_data_df(symbol, market='USD', interval='15min'):\n",
    "    url = f'https://www.alphavantage.co/query?function=CRYPTO_INTRADAY&symbol={symbol}&market={market}&interval={interval}&apikey={API_KEY}'\n",
    "    r = requests.get(url)\n",
    "    data = r.json()\n",
    "    crypto_df = pd.DataFrame(data[f'Time Series Crypto ({interval})']).T\n",
    "    crypto_df.columns = ['open', 'high', 'low', 'close', 'volume']\n",
    "    crypto_df = crypto_df.astype(float)\n",
    "\n",
    "    return crypto_df\n",
    "\n",
    "\n",
    "def get_weekly_crypto_data_df(symbol, market='USD'):\n",
    "    url = f'https://www.alphavantage.co/query?function=DIGITAL_CURRENCY_WEEKLY&symbol={symbol}&market={market}&apikey={API_KEY}'\n",
    "    r = requests.get(url)\n",
    "    data = r.json()\n",
    "    crypto_df = pd.DataFrame(data[f'Time Series (Digital Currency Weekly)']).T\n",
    "    # crypto_df.columns = ['open', 'high', 'low', 'close', 'volume']\n",
    "    crypto_df = crypto_df.astype(float)\n",
    "    print(list(data.keys()))\n",
    "\n",
    "    return crypto_df"
   ]
  },
  {
   "cell_type": "code",
   "execution_count": 116,
   "metadata": {},
   "outputs": [
    {
     "ename": "KeyError",
     "evalue": "'Time Series Crypto (15min)'",
     "output_type": "error",
     "traceback": [
      "\u001b[1;31m---------------------------------------------------------------------------\u001b[0m",
      "\u001b[1;31mKeyError\u001b[0m                                  Traceback (most recent call last)",
      "\u001b[1;32m~\\AppData\\Local\\Temp/ipykernel_6820/4051500083.py\u001b[0m in \u001b[0;36m<module>\u001b[1;34m\u001b[0m\n\u001b[0;32m      2\u001b[0m \u001b[0minterval\u001b[0m \u001b[1;33m=\u001b[0m \u001b[1;34m'15min'\u001b[0m\u001b[1;33m\u001b[0m\u001b[1;33m\u001b[0m\u001b[0m\n\u001b[0;32m      3\u001b[0m \u001b[1;33m\u001b[0m\u001b[0m\n\u001b[1;32m----> 4\u001b[1;33m \u001b[0mbtc_df\u001b[0m \u001b[1;33m=\u001b[0m \u001b[0mget_intraday_crypto_data_df\u001b[0m\u001b[1;33m(\u001b[0m\u001b[1;34m'BTC'\u001b[0m\u001b[1;33m,\u001b[0m \u001b[0mmarket\u001b[0m\u001b[1;33m,\u001b[0m \u001b[0minterval\u001b[0m\u001b[1;33m)\u001b[0m\u001b[1;33m\u001b[0m\u001b[1;33m\u001b[0m\u001b[0m\n\u001b[0m\u001b[0;32m      5\u001b[0m \u001b[0meth_df\u001b[0m \u001b[1;33m=\u001b[0m \u001b[0mget_intraday_crypto_data_df\u001b[0m\u001b[1;33m(\u001b[0m\u001b[1;34m'ETH'\u001b[0m\u001b[1;33m,\u001b[0m \u001b[0mmarket\u001b[0m\u001b[1;33m,\u001b[0m \u001b[0minterval\u001b[0m\u001b[1;33m)\u001b[0m\u001b[1;33m\u001b[0m\u001b[1;33m\u001b[0m\u001b[0m\n\u001b[0;32m      6\u001b[0m \u001b[1;33m\u001b[0m\u001b[0m\n",
      "\u001b[1;32m~\\AppData\\Local\\Temp/ipykernel_6820/1346607257.py\u001b[0m in \u001b[0;36mget_intraday_crypto_data_df\u001b[1;34m(symbol, market, interval)\u001b[0m\n\u001b[0;32m      3\u001b[0m     \u001b[0mr\u001b[0m \u001b[1;33m=\u001b[0m \u001b[0mrequests\u001b[0m\u001b[1;33m.\u001b[0m\u001b[0mget\u001b[0m\u001b[1;33m(\u001b[0m\u001b[0murl\u001b[0m\u001b[1;33m)\u001b[0m\u001b[1;33m\u001b[0m\u001b[1;33m\u001b[0m\u001b[0m\n\u001b[0;32m      4\u001b[0m     \u001b[0mdata\u001b[0m \u001b[1;33m=\u001b[0m \u001b[0mr\u001b[0m\u001b[1;33m.\u001b[0m\u001b[0mjson\u001b[0m\u001b[1;33m(\u001b[0m\u001b[1;33m)\u001b[0m\u001b[1;33m\u001b[0m\u001b[1;33m\u001b[0m\u001b[0m\n\u001b[1;32m----> 5\u001b[1;33m     \u001b[0mcrypto_df\u001b[0m \u001b[1;33m=\u001b[0m \u001b[0mpd\u001b[0m\u001b[1;33m.\u001b[0m\u001b[0mDataFrame\u001b[0m\u001b[1;33m(\u001b[0m\u001b[0mdata\u001b[0m\u001b[1;33m[\u001b[0m\u001b[1;34mf'Time Series Crypto ({interval})'\u001b[0m\u001b[1;33m]\u001b[0m\u001b[1;33m)\u001b[0m\u001b[1;33m.\u001b[0m\u001b[0mT\u001b[0m\u001b[1;33m\u001b[0m\u001b[1;33m\u001b[0m\u001b[0m\n\u001b[0m\u001b[0;32m      6\u001b[0m     \u001b[0mcrypto_df\u001b[0m\u001b[1;33m.\u001b[0m\u001b[0mcolumns\u001b[0m \u001b[1;33m=\u001b[0m \u001b[1;33m[\u001b[0m\u001b[1;34m'open'\u001b[0m\u001b[1;33m,\u001b[0m \u001b[1;34m'high'\u001b[0m\u001b[1;33m,\u001b[0m \u001b[1;34m'low'\u001b[0m\u001b[1;33m,\u001b[0m \u001b[1;34m'close'\u001b[0m\u001b[1;33m,\u001b[0m \u001b[1;34m'volume'\u001b[0m\u001b[1;33m]\u001b[0m\u001b[1;33m\u001b[0m\u001b[1;33m\u001b[0m\u001b[0m\n\u001b[0;32m      7\u001b[0m     \u001b[0mcrypto_df\u001b[0m \u001b[1;33m=\u001b[0m \u001b[0mcrypto_df\u001b[0m\u001b[1;33m.\u001b[0m\u001b[0mastype\u001b[0m\u001b[1;33m(\u001b[0m\u001b[0mfloat\u001b[0m\u001b[1;33m)\u001b[0m\u001b[1;33m\u001b[0m\u001b[1;33m\u001b[0m\u001b[0m\n",
      "\u001b[1;31mKeyError\u001b[0m: 'Time Series Crypto (15min)'"
     ]
    }
   ],
   "source": [
    "market = 'USD'\n",
    "interval = '15min'\n",
    "\n",
    "# btc_df = get_intraday_crypto_data_df('BTC', market, interval)\n",
    "# eth_df = get_intraday_crypto_data_df('ETH', market, interval)\n",
    "\n",
    "\n",
    "get_weekly_crypto_data_df('BTC', market)"
   ]
  },
  {
   "cell_type": "markdown",
   "metadata": {},
   "source": [
    "## FX"
   ]
  },
  {
   "cell_type": "code",
   "execution_count": 3,
   "metadata": {},
   "outputs": [
    {
     "data": {
      "text/html": [
       "<div>\n",
       "<style scoped>\n",
       "    .dataframe tbody tr th:only-of-type {\n",
       "        vertical-align: middle;\n",
       "    }\n",
       "\n",
       "    .dataframe tbody tr th {\n",
       "        vertical-align: top;\n",
       "    }\n",
       "\n",
       "    .dataframe thead th {\n",
       "        text-align: right;\n",
       "    }\n",
       "</style>\n",
       "<table border=\"1\" class=\"dataframe\">\n",
       "  <thead>\n",
       "    <tr style=\"text-align: right;\">\n",
       "      <th></th>\n",
       "      <th>open</th>\n",
       "      <th>high</th>\n",
       "      <th>low</th>\n",
       "      <th>close</th>\n",
       "    </tr>\n",
       "  </thead>\n",
       "  <tbody>\n",
       "    <tr>\n",
       "      <th>2022-08-01</th>\n",
       "      <td>0.9792</td>\n",
       "      <td>0.9795</td>\n",
       "      <td>0.9738</td>\n",
       "      <td>0.9740</td>\n",
       "    </tr>\n",
       "    <tr>\n",
       "      <th>2022-07-29</th>\n",
       "      <td>0.9806</td>\n",
       "      <td>0.9851</td>\n",
       "      <td>0.9750</td>\n",
       "      <td>0.9778</td>\n",
       "    </tr>\n",
       "    <tr>\n",
       "      <th>2022-07-28</th>\n",
       "      <td>0.9799</td>\n",
       "      <td>0.9883</td>\n",
       "      <td>0.9769</td>\n",
       "      <td>0.9807</td>\n",
       "    </tr>\n",
       "    <tr>\n",
       "      <th>2022-07-27</th>\n",
       "      <td>0.9880</td>\n",
       "      <td>0.9899</td>\n",
       "      <td>0.9783</td>\n",
       "      <td>0.9801</td>\n",
       "    </tr>\n",
       "    <tr>\n",
       "      <th>2022-07-26</th>\n",
       "      <td>0.9782</td>\n",
       "      <td>0.9891</td>\n",
       "      <td>0.9754</td>\n",
       "      <td>0.9880</td>\n",
       "    </tr>\n",
       "    <tr>\n",
       "      <th>...</th>\n",
       "      <td>...</td>\n",
       "      <td>...</td>\n",
       "      <td>...</td>\n",
       "      <td>...</td>\n",
       "    </tr>\n",
       "    <tr>\n",
       "      <th>2022-03-21</th>\n",
       "      <td>0.9045</td>\n",
       "      <td>0.9080</td>\n",
       "      <td>0.9031</td>\n",
       "      <td>0.9073</td>\n",
       "    </tr>\n",
       "    <tr>\n",
       "      <th>2022-03-18</th>\n",
       "      <td>0.9012</td>\n",
       "      <td>0.9085</td>\n",
       "      <td>0.8993</td>\n",
       "      <td>0.9041</td>\n",
       "    </tr>\n",
       "    <tr>\n",
       "      <th>2022-03-17</th>\n",
       "      <td>0.9061</td>\n",
       "      <td>0.9080</td>\n",
       "      <td>0.8975</td>\n",
       "      <td>0.9013</td>\n",
       "    </tr>\n",
       "    <tr>\n",
       "      <th>2022-03-16</th>\n",
       "      <td>0.9124</td>\n",
       "      <td>0.9129</td>\n",
       "      <td>0.9049</td>\n",
       "      <td>0.9061</td>\n",
       "    </tr>\n",
       "    <tr>\n",
       "      <th>2022-03-15</th>\n",
       "      <td>0.9134</td>\n",
       "      <td>0.9150</td>\n",
       "      <td>0.9075</td>\n",
       "      <td>0.9130</td>\n",
       "    </tr>\n",
       "  </tbody>\n",
       "</table>\n",
       "<p>100 rows × 4 columns</p>\n",
       "</div>"
      ],
      "text/plain": [
       "              open    high     low   close\n",
       "2022-08-01  0.9792  0.9795  0.9738  0.9740\n",
       "2022-07-29  0.9806  0.9851  0.9750  0.9778\n",
       "2022-07-28  0.9799  0.9883  0.9769  0.9807\n",
       "2022-07-27  0.9880  0.9899  0.9783  0.9801\n",
       "2022-07-26  0.9782  0.9891  0.9754  0.9880\n",
       "...            ...     ...     ...     ...\n",
       "2022-03-21  0.9045  0.9080  0.9031  0.9073\n",
       "2022-03-18  0.9012  0.9085  0.8993  0.9041\n",
       "2022-03-17  0.9061  0.9080  0.8975  0.9013\n",
       "2022-03-16  0.9124  0.9129  0.9049  0.9061\n",
       "2022-03-15  0.9134  0.9150  0.9075  0.9130\n",
       "\n",
       "[100 rows x 4 columns]"
      ]
     },
     "execution_count": 3,
     "metadata": {},
     "output_type": "execute_result"
    }
   ],
   "source": [
    "def get_daily_fx_data_df(from_symbol='USD', to_symbol='EUR'):\n",
    "    url = f'https://www.alphavantage.co/query?function=FX_DAILY&from_symbol={from_symbol}&to_symbol={to_symbol}&apikey={API_KEY}'\n",
    "    r = requests.get(url)\n",
    "    data = r.json()\n",
    "    fx_df = pd.DataFrame(data[f'Time Series FX (Daily)']).T\n",
    "    fx_df.columns = ['open', 'high', 'low', 'close']\n",
    "    fx_df = fx_df.astype(float)\n",
    "\n",
    "    return fx_df\n",
    "\n",
    "get_daily_fx_data_df()"
   ]
  },
  {
   "cell_type": "code",
   "execution_count": 6,
   "metadata": {},
   "outputs": [
    {
     "data": {
      "text/plain": [
       "<AxesSubplot:ylabel='close'>"
      ]
     },
     "execution_count": 6,
     "metadata": {},
     "output_type": "execute_result"
    },
    {
     "data": {
      "image/png": "[encoded data removed]",
      "text/plain": [
       "<Figure size 432x288 with 1 Axes>"
      ]
     },
     "metadata": {},
     "output_type": "display_data"
    }
   ],
   "source": [
    "fx_df = get_daily_fx_data_df()\n",
    "\n",
    "sns.lineplot(data=fx_df['close'])"
   ]
  }
 ],
 "metadata": {
  "kernelspec": {
   "display_name": "Python 3.9.5 64-bit",
   "language": "python",
   "name": "python3"
  },
  "language_info": {
   "codemirror_mode": {
    "name": "ipython",
    "version": 3
   },
   "file_extension": ".py",
   "mimetype": "text/x-python",
   "name": "python",
   "nbconvert_exporter": "python",
   "pygments_lexer": "ipython3",
   "version": "3.9.5"
  },
  "orig_nbformat": 4,
  "vscode": {
   "interpreter": {
    "hash": "e5517dfdb705daf3705c6fb599883d5248220128b29f7b5e294dfff39084d2fb"
   }
  }
 },
 "nbformat": 4,
 "nbformat_minor": 2
}
