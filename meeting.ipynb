{
 "cells": [
  {
   "cell_type": "markdown",
   "metadata": {},
   "source": [
    "# 18/08/2022"
   ]
  },
  {
   "cell_type": "code",
   "execution_count": 1,
   "metadata": {},
   "outputs": [],
   "source": [
    "import numpy as np\n",
    "import pandas as pd\n",
    "import scipy\n",
    "import matplotlib.pyplot as plt\n",
    "import seaborn as sns\n",
    "\n",
    "import datetime as dt\n",
    "from statsmodels.tsa.stattools import pacf\n",
    "from statsmodels.graphics.tsaplots import plot_pacf, plot_acf\n",
    "\n",
    "from utils.data_processing import get_dates_str, download_and_prepare_data, load_spread_btc_eth\n",
    "from utils.kernels import Kernel\n",
    "from utils.estimation import estimate_parameters_tvAR_p, forecast_future_values_tvAR_p \n",
    "from utils.interpolation import interpolate_and_extrapolate, plot_interpolation, extrapolate_parameters\n",
    "from utils.trading import get_actions_and_forecasts, launch_trading_simulation1, launch_trading_simulation2, launch_trading_simulation3\n",
    "\n",
    "sns.set_style(\"whitegrid\")"
   ]
  },
  {
   "cell_type": "code",
   "execution_count": 12,
   "metadata": {},
   "outputs": [],
   "source": [
    "def make_general_plots(time_series, p=1, k=3):\n",
    "    # MODELLING\n",
    "    u_list = np.linspace(0, 1, 100, endpoint=False)\n",
    "    T = time_series.shape[0]\n",
    "    b_T = 0.1 * T ** (-1/5)\n",
    "    print(f\"{T=}\")\n",
    "    print(f\"{b_T=}\")\n",
    "\n",
    "    theta_hat = estimate_parameters_tvAR_p(time_series=time_series, p=p, u_list=u_list, kernel=Kernel(\"epanechnikov\"), bandwidth=b_T)\n",
    "    alpha_hat = theta_hat[:, :-1, :].squeeze(axis=2)\n",
    "    sigma_hat = theta_hat[:, -1, :].squeeze()\n",
    "\n",
    "    # PLOT DATA TIME SERIES + COEFFICIENTS TIME SERIES\n",
    "    fig = plt.figure(constrained_layout=True)\n",
    "    subfigs = fig.subfigures(3, 1)\n",
    "    # spread time series\n",
    "    ax = subfigs[0].subplots(1, 1)\n",
    "    ax.plot(time_series)\n",
    "    ax.set_title(\"Spread\")\n",
    "    # alpha\n",
    "    axs = subfigs[1].subplots(1, p) if p > 1 else [subfigs[1].subplots(1, p)]\n",
    "    for i in range(p):\n",
    "        axs[i].plot(u_list, alpha_hat[:, i])\n",
    "        axs[i].set_title(f\"alpha_{i+1}\")\n",
    "    # sigma\n",
    "    ax = subfigs[2].subplots(1, 1)\n",
    "    ax.plot(u_list, sigma_hat)\n",
    "    ax.set_title(\"sigma\")\n",
    "\n",
    "    # PLOT ACF / PACF\n",
    "    fig2, axs2 = plt.subplots(1, 2)\n",
    "    pacf_, conf_int = pacf(time_series, nlags=10, alpha=0.05)\n",
    "    plot_pacf(time_series, method='ywm', ax=axs2[0], lags=np.arange(10), alpha=0.05, markersize=3)\n",
    "    plot_acf(time_series, ax=axs2[1], lags=np.arange(10), alpha=0.05, markersize=3)\n",
    "\n",
    "    # PLOT Interpolation for one coefficient\n",
    "    fig, ax = plt.subplots()\n",
    "    alpha_interpolation = interpolate_and_extrapolate(alpha_hat[:, 0], k=k)\n",
    "    plot_interpolation(alpha_hat[:, 0], alpha_interpolation, ax)\n",
    "    \n",
    "    # PLOT forecast of the time series\n",
    "    fig, ax = plt.subplots()\n",
    "    alpha_extrapolated, sigma_extrapolated = extrapolate_parameters(alpha_hat, sigma_hat, num_points=10, interpol_step=1, n_forecasts=1, k=3) # shape (n_forecasts, alpha_hat.shape[1])\n",
    "    preds = forecast_future_values_tvAR_p(alpha_extrapolated, time_series)\n",
    "    ax.plot(np.arange(19, 20+len(preds)), np.concatenate([[time_series[-1]], preds]), color='red', label='prediction')\n",
    "    ax.plot(np.arange(20), time_series[-20:], label='time series')\n",
    "    ax.set_title(\"last 20 points of the time series + forecast\")\n",
    "    ax.legend()\n",
    "\n",
    "def plot_rolling_entries(time_series, spread_time_series, n_forecasts=50, n_last_points=80, p=1, k=3):\n",
    "    (actions, forecasts, z_list) = get_actions_and_forecasts(time_series=time_series, n_forecasts=n_forecasts, p=p, k=k)\n",
    "    print(scipy.stats.spearmanr(time_series[-n_forecasts:], forecasts))\n",
    "    \n",
    "    # Plot figure\n",
    "    ## time series and forecasts\n",
    "    fig, ax = plt.subplots()\n",
    "    x = np.arange(n_last_points)\n",
    "    ax.plot(x, time_series[-n_last_points:])\n",
    "    ax.plot(x[-n_forecasts:], forecasts, color='red', label='forecasts')\n",
    "    ax.vlines(x[-n_forecasts], time_series[-n_last_points:].min(),\n",
    "              time_series[-n_last_points:].max(), color='red', linestyle='--', label='forecasts begin here')\n",
    "    ax.scatter(x[-n_forecasts + np.argwhere(actions == 'LONG')] - 1,\n",
    "               time_series[-n_forecasts + np.argwhere(actions == 'LONG') - 1], marker='^', color='green', label='Open LONG')\n",
    "    ax.scatter(x[-n_forecasts + np.argwhere(actions == 'SHORT') - 1],\n",
    "               time_series[-n_forecasts + np.argwhere(actions == 'SHORT') - 1], marker='v', color='black', label='Open SHORT')\n",
    "    ax.set_title(f\"Trade Signals ({k=}, {p=})\")\n",
    "    ax.legend()\n",
    "    ## spread time series\n",
    "    fig, ax = plt.subplots()\n",
    "    ax.plot(x, spread_time_series[-n_last_points:])\n",
    "    ax.scatter(x[-n_forecasts + np.argwhere(actions == 'LONG')] - 1,\n",
    "               spread_time_series[-n_forecasts + np.argwhere(actions == 'LONG') - 1], marker='^', color='green', label='Open LONG')\n",
    "    ax.scatter(x[-n_forecasts + np.argwhere(actions == 'SHORT') - 1],\n",
    "               spread_time_series[-n_forecasts + np.argwhere(actions == 'SHORT') - 1], marker='v', color='black', label='Open SHORT')\n",
    "    ## z\n",
    "    fig, ax = plt.subplots()\n",
    "    ax.plot(x[-n_forecasts:], z_list, color='green', label='z')"
   ]
  },
  {
   "cell_type": "markdown",
   "metadata": {},
   "source": [
    "## Trading strategies"
   ]
  },
  {
   "cell_type": "markdown",
   "metadata": {},
   "source": [
    "### Parameters"
   ]
  },
  {
   "cell_type": "code",
   "execution_count": 2,
   "metadata": {},
   "outputs": [],
   "source": [
    "p = 1       # order of the tvAR(p)\n",
    "k = 3       # order of the spline interpolation\n",
    "T = 10_000  # length of each time series\n",
    "n_simulations = 2000 # number of hours for the trading simulation"
   ]
  },
  {
   "cell_type": "markdown",
   "metadata": {},
   "source": [
    "### Data"
   ]
  },
  {
   "cell_type": "code",
   "execution_count": null,
   "metadata": {},
   "outputs": [],
   "source": [
    "end_date = '2021-12-31' # '2022-08-14' max\n",
    "start, end = get_dates_str(n_simulations + T - 1, end_date)\n",
    "data_df = load_spread_btc_eth(start, end)\n",
    "\n",
    "time_series = data_df['spread_log_returns'].to_numpy()\n",
    "spread_time_series = data_df['spread'].to_numpy()"
   ]
  },
  {
   "cell_type": "code",
   "execution_count": null,
   "metadata": {},
   "outputs": [],
   "source": [
    "fig, axs = plt.subplots(1, 2, figsize=(14, 6))\n",
    "sns.lineplot(data=data_df, x=data_df.index, y=\"spread_log_returns\", ax=axs[0]);\n",
    "sns.lineplot(data=data_df, x=data_df.index, y=\"spread\", ax=axs[1]);"
   ]
  },
  {
   "cell_type": "markdown",
   "metadata": {},
   "source": [
    "### Strategy 1"
   ]
  },
  {
   "cell_type": "markdown",
   "metadata": {},
   "source": [
    "- Open position at time $t$ if $|z| > 1$\n",
    "- Close position at time $t+1$"
   ]
  },
  {
   "cell_type": "code",
   "execution_count": null,
   "metadata": {},
   "outputs": [],
   "source": [
    "portfolio_1, actions_1, forecasts_1 = launch_trading_simulation1(data_df, T, p, k, )\n"
   ]
  },
  {
   "cell_type": "code",
   "execution_count": 37,
   "metadata": {},
   "outputs": [
    {
     "data": {
      "image/png": "[encoded data removed]",
      "text/plain": [
       "<Figure size 432x288 with 1 Axes>"
      ]
     },
     "metadata": {},
     "output_type": "display_data"
    }
   ],
   "source": [
    "pnl_series_1 = pd.read_csv('data/pnl_simulations/pnl_series_strat1-end2021.csv', index_col='datetime')\n",
    "\n",
    "fig, ax = plt.subplots(figsize=(14, 6))\n",
    "ax.plot(pnl_series_1.to_numpy());"
   ]
  },
  {
   "cell_type": "code",
   "execution_count": 33,
   "metadata": {},
   "outputs": [
    {
     "data": {
      "text/html": [
       "<div>\n",
       "<style scoped>\n",
       "    .dataframe tbody tr th:only-of-type {\n",
       "        vertical-align: middle;\n",
       "    }\n",
       "\n",
       "    .dataframe tbody tr th {\n",
       "        vertical-align: top;\n",
       "    }\n",
       "\n",
       "    .dataframe thead th {\n",
       "        text-align: right;\n",
       "    }\n",
       "</style>\n",
       "<table border=\"1\" class=\"dataframe\">\n",
       "  <thead>\n",
       "    <tr style=\"text-align: right;\">\n",
       "      <th></th>\n",
       "      <th>0</th>\n",
       "    </tr>\n",
       "    <tr>\n",
       "      <th>datetime</th>\n",
       "      <th></th>\n",
       "    </tr>\n",
       "  </thead>\n",
       "  <tbody>\n",
       "    <tr>\n",
       "      <th>2021-10-08 16:00:00</th>\n",
       "      <td>0.00</td>\n",
       "    </tr>\n",
       "    <tr>\n",
       "      <th>2020-08-18 00:00:00</th>\n",
       "      <td>0.00</td>\n",
       "    </tr>\n",
       "    <tr>\n",
       "      <th>2020-08-18 01:00:00</th>\n",
       "      <td>0.00</td>\n",
       "    </tr>\n",
       "    <tr>\n",
       "      <th>2020-08-18 02:00:00</th>\n",
       "      <td>0.00</td>\n",
       "    </tr>\n",
       "    <tr>\n",
       "      <th>2020-08-18 03:00:00</th>\n",
       "      <td>0.00</td>\n",
       "    </tr>\n",
       "    <tr>\n",
       "      <th>...</th>\n",
       "      <td>...</td>\n",
       "    </tr>\n",
       "    <tr>\n",
       "      <th>2020-11-09 04:00:00</th>\n",
       "      <td>260.26</td>\n",
       "    </tr>\n",
       "    <tr>\n",
       "      <th>2020-11-09 05:00:00</th>\n",
       "      <td>260.26</td>\n",
       "    </tr>\n",
       "    <tr>\n",
       "      <th>2020-11-09 06:00:00</th>\n",
       "      <td>260.26</td>\n",
       "    </tr>\n",
       "    <tr>\n",
       "      <th>2020-11-09 07:00:00</th>\n",
       "      <td>260.26</td>\n",
       "    </tr>\n",
       "    <tr>\n",
       "      <th>2020-11-09 08:00:00</th>\n",
       "      <td>260.26</td>\n",
       "    </tr>\n",
       "  </tbody>\n",
       "</table>\n",
       "<p>2002 rows × 1 columns</p>\n",
       "</div>"
      ],
      "text/plain": [
       "                          0\n",
       "datetime                   \n",
       "2021-10-08 16:00:00    0.00\n",
       "2020-08-18 00:00:00    0.00\n",
       "2020-08-18 01:00:00    0.00\n",
       "2020-08-18 02:00:00    0.00\n",
       "2020-08-18 03:00:00    0.00\n",
       "...                     ...\n",
       "2020-11-09 04:00:00  260.26\n",
       "2020-11-09 05:00:00  260.26\n",
       "2020-11-09 06:00:00  260.26\n",
       "2020-11-09 07:00:00  260.26\n",
       "2020-11-09 08:00:00  260.26\n",
       "\n",
       "[2002 rows x 1 columns]"
      ]
     },
     "execution_count": 33,
     "metadata": {},
     "output_type": "execute_result"
    }
   ],
   "source": [
    "pnl_series_1"
   ]
  }
 ],
 "metadata": {
  "kernelspec": {
   "display_name": "Python 3.9.5 64-bit",
   "language": "python",
   "name": "python3"
  },
  "language_info": {
   "codemirror_mode": {
    "name": "ipython",
    "version": 3
   },
   "file_extension": ".py",
   "mimetype": "text/x-python",
   "name": "python",
   "nbconvert_exporter": "python",
   "pygments_lexer": "ipython3",
   "version": "3.9.5"
  },
  "orig_nbformat": 4,
  "vscode": {
   "interpreter": {
    "hash": "e5517dfdb705daf3705c6fb599883d5248220128b29f7b5e294dfff39084d2fb"
   }
  }
 },
 "nbformat": 4,
 "nbformat_minor": 2
}
