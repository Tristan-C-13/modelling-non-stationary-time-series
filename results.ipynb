{
 "cells": [
  {
   "cell_type": "code",
   "execution_count": 2,
   "metadata": {},
   "outputs": [],
   "source": [
    "import numpy as np \n",
    "import pandas as pd\n",
    "import pickle"
   ]
  },
  {
   "cell_type": "code",
   "execution_count": 5,
   "metadata": {},
   "outputs": [
    {
     "name": "stdout",
     "output_type": "stream",
     "text": [
      "{'ratio': 0.5757575757575758, 'short ratio': 0.6451612903225806, 'long ratio': 0.5142857142857142}\n",
      "{'ratio': 0.6060606060606061, 'short ratio': 0.6875, 'long ratio': 0.5294117647058824}\n",
      "{'ratio': 0.62, 'short ratio': 0.65, 'long ratio': 0.6}\n"
     ]
    }
   ],
   "source": [
    "with (\n",
    "    open('data/trading_simulations/strat1_n=5000_z1.pickle', 'rb') as f1,\n",
    "    open('data/trading_simulations/strat2_n=5000_z1.pickle', 'rb') as f2,\n",
    "    open('data/trading_simulations/strat3_n=5000_z1.pickle', 'rb') as f3,\n",
    "):\n",
    "    portfolio_1 = pickle.load(f1)\n",
    "    portfolio_2 = pickle.load(f2)\n",
    "    portfolio_3 = pickle.load(f3)\n",
    "\n",
    "print(portfolio_1.hit_ratio)\n",
    "print(portfolio_2.hit_ratio)\n",
    "print(portfolio_3.hit_ratio)"
   ]
  }
 ],
 "metadata": {
  "kernelspec": {
   "display_name": "Python 3.9.5 64-bit",
   "language": "python",
   "name": "python3"
  },
  "language_info": {
   "codemirror_mode": {
    "name": "ipython",
    "version": 3
   },
   "file_extension": ".py",
   "mimetype": "text/x-python",
   "name": "python",
   "nbconvert_exporter": "python",
   "pygments_lexer": "ipython3",
   "version": "3.9.5"
  },
  "orig_nbformat": 4,
  "vscode": {
   "interpreter": {
    "hash": "e5517dfdb705daf3705c6fb599883d5248220128b29f7b5e294dfff39084d2fb"
   }
  }
 },
 "nbformat": 4,
 "nbformat_minor": 2
}
